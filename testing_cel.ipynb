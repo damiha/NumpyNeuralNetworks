{
 "cells": [
  {
   "cell_type": "code",
   "execution_count": 1,
   "metadata": {},
   "outputs": [],
   "source": [
    "from tensor import Tensor\n",
    "from linear import Linear\n",
    "from cross_entropy_loss import CELossWithLogits\n",
    "import numpy as np\n",
    "import torch"
   ]
  },
  {
   "cell_type": "code",
   "execution_count": 2,
   "metadata": {},
   "outputs": [],
   "source": [
    "l1 = Linear(2, 4)\n",
    "l2 = Linear(4, 2)\n",
    "\n",
    "X = Tensor(np.array([\n",
    "    [0, 0.0],\n",
    "    [0, 1],\n",
    "    [1, 0],\n",
    "    [1, 1]\n",
    "]))\n",
    "\n",
    "# left = 0, right = 1 \n",
    "y_true = Tensor(np.array([\n",
    "    [1, 0],\n",
    "    [0, 1],\n",
    "    [0, 1],\n",
    "    [1, 0]\n",
    "]))\n",
    "\n",
    "h1 = l1.forward(X)\n",
    "logits = l2.forward(h1)\n",
    "\n",
    "criterion = CELossWithLogits()\n",
    "\n",
    "loss = criterion.forward(logits, y_true)"
   ]
  },
  {
   "cell_type": "code",
   "execution_count": 3,
   "metadata": {},
   "outputs": [
    {
     "name": "stdout",
     "output_type": "stream",
     "text": [
      "[[ 0.          0.        ]\n",
      " [-2.28363504 -0.17628375]\n",
      " [ 0.06583001  0.92282901]\n",
      " [-2.21780502  0.74654527]]\n"
     ]
    }
   ],
   "source": [
    "print(logits.value)"
   ]
  },
  {
   "cell_type": "code",
   "execution_count": 4,
   "metadata": {},
   "outputs": [
    {
     "data": {
      "text/plain": [
       "np.float64(1.0440747931243872)"
      ]
     },
     "execution_count": 4,
     "metadata": {},
     "output_type": "execute_result"
    }
   ],
   "source": [
    "loss.value"
   ]
  },
  {
   "cell_type": "code",
   "execution_count": 5,
   "metadata": {},
   "outputs": [],
   "source": [
    "loss.backward()"
   ]
  },
  {
   "cell_type": "code",
   "execution_count": 6,
   "metadata": {},
   "outputs": [
    {
     "data": {
      "text/plain": [
       "array([[ 0.11604089,  0.149732  ],\n",
       "       [ 0.15938835,  0.20566489],\n",
       "       [ 0.10929151,  0.14102301],\n",
       "       [-0.24038182, -0.31017386]])"
      ]
     },
     "execution_count": 6,
     "metadata": {},
     "output_type": "execute_result"
    }
   ],
   "source": [
    "l1.W.grad"
   ]
  },
  {
   "cell_type": "code",
   "execution_count": 7,
   "metadata": {},
   "outputs": [
    {
     "data": {
      "text/plain": [
       "array([[ 0.18563579,  0.25498066,  0.1748385 , -0.38454953]])"
      ]
     },
     "execution_count": 7,
     "metadata": {},
     "output_type": "execute_result"
    }
   ],
   "source": [
    "l1.b.grad"
   ]
  },
  {
   "cell_type": "code",
   "execution_count": 8,
   "metadata": {},
   "outputs": [
    {
     "name": "stdout",
     "output_type": "stream",
     "text": [
      "tensor([[ 0.0000,  0.0000],\n",
      "        [-2.2836, -0.1763],\n",
      "        [ 0.0658,  0.9228],\n",
      "        [-2.2178,  0.7465]], grad_fn=<AddBackward0>)\n"
     ]
    }
   ],
   "source": [
    "# check with torch\n",
    "Xt = torch.tensor([\n",
    "    [0, 0],\n",
    "    [0, 1],\n",
    "    [1, 0],\n",
    "    [1, 1]\n",
    "]).float()\n",
    "\n",
    "yt = torch.tensor([0, 1, 1, 0])\n",
    "\n",
    "W1t = torch.tensor(l1.W.value).float()\n",
    "W1t.requires_grad = True\n",
    "\n",
    "\n",
    "b1t = torch.tensor(l1.b.value).float()\n",
    "b1t.requires_grad = True\n",
    "\n",
    "W2t = torch.tensor(l2.W.value).float()\n",
    "W2t.requires_grad = True\n",
    "\n",
    "b2t = torch.tensor(l2.b.value).float()\n",
    "b2t.requires_grad = True\n",
    "\n",
    "ht = Xt @ W1t.T + b1t\n",
    "logits_t = ht @ W2t.T + b2t\n",
    "print(logits_t)\n",
    "\n",
    "criterion_torch = torch.nn.CrossEntropyLoss()\n",
    "\n",
    "loss_t = criterion_torch(logits_t, yt)"
   ]
  },
  {
   "cell_type": "code",
   "execution_count": 9,
   "metadata": {},
   "outputs": [
    {
     "data": {
      "text/plain": [
       "tensor(1.0441, grad_fn=<NllLossBackward0>)"
      ]
     },
     "execution_count": 9,
     "metadata": {},
     "output_type": "execute_result"
    }
   ],
   "source": [
    "loss_t"
   ]
  },
  {
   "cell_type": "code",
   "execution_count": 12,
   "metadata": {},
   "outputs": [],
   "source": [
    "loss_t.backward()"
   ]
  },
  {
   "cell_type": "code",
   "execution_count": 13,
   "metadata": {},
   "outputs": [
    {
     "data": {
      "text/plain": [
       "tensor([[ 0.1160,  0.1497],\n",
       "        [ 0.1594,  0.2057],\n",
       "        [ 0.1093,  0.1410],\n",
       "        [-0.2404, -0.3102]])"
      ]
     },
     "execution_count": 13,
     "metadata": {},
     "output_type": "execute_result"
    }
   ],
   "source": [
    "W1t.grad.data"
   ]
  },
  {
   "cell_type": "code",
   "execution_count": null,
   "metadata": {},
   "outputs": [],
   "source": []
  }
 ],
 "metadata": {
  "kernelspec": {
   "display_name": "venv",
   "language": "python",
   "name": "python3"
  },
  "language_info": {
   "codemirror_mode": {
    "name": "ipython",
    "version": 3
   },
   "file_extension": ".py",
   "mimetype": "text/x-python",
   "name": "python",
   "nbconvert_exporter": "python",
   "pygments_lexer": "ipython3",
   "version": "3.10.12"
  }
 },
 "nbformat": 4,
 "nbformat_minor": 2
}
