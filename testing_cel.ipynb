{
 "cells": [
  {
   "cell_type": "code",
   "execution_count": 1,
   "metadata": {},
   "outputs": [],
   "source": [
    "from tensor import Tensor\n",
    "from linear import Linear\n",
    "from cross_entropy_loss import CELossWithLogits\n",
    "import numpy as np\n",
    "import torch\n",
    "from layer import Layer\n",
    "from sequential import Sequential\n",
    "from relu import ReLU"
   ]
  },
  {
   "cell_type": "code",
   "execution_count": 2,
   "metadata": {},
   "outputs": [],
   "source": [
    "X = Tensor(np.array([\n",
    "    [0, 0.0],\n",
    "    [0, 1],\n",
    "    [1, 0],\n",
    "    [1, 1]\n",
    "]))\n",
    "\n",
    "# left = 0, right = 1 \n",
    "y_true = Tensor(np.array([\n",
    "    [1, 0],\n",
    "    [0, 1],\n",
    "    [0, 1],\n",
    "    [1, 0]\n",
    "]))\n",
    "\n",
    "nn = Sequential(\n",
    "    Linear(2, 4),\n",
    "    ReLU(),\n",
    "    Linear(4, 2)\n",
    ")\n",
    "\n",
    "logits = nn.forward(X)\n",
    "\n",
    "criterion = CELossWithLogits()\n",
    "\n",
    "loss = criterion.forward(logits, y_true)"
   ]
  },
  {
   "cell_type": "code",
   "execution_count": 3,
   "metadata": {},
   "outputs": [
    {
     "data": {
      "text/plain": [
       "{'Linear0W': <tensor.Tensor at 0x7801ec40f7f0>,\n",
       " 'Linear0b': <tensor.Tensor at 0x7801ec40f640>,\n",
       " 'Linear2W': <tensor.Tensor at 0x78010a27eb00>,\n",
       " 'Linear2b': <tensor.Tensor at 0x78010a2ae0b0>}"
      ]
     },
     "execution_count": 3,
     "metadata": {},
     "output_type": "execute_result"
    }
   ],
   "source": [
    "nn.get_params()"
   ]
  },
  {
   "cell_type": "code",
   "execution_count": 4,
   "metadata": {},
   "outputs": [
    {
     "name": "stdout",
     "output_type": "stream",
     "text": [
      "Linear\n"
     ]
    }
   ],
   "source": [
    "print(nn.layers[0])"
   ]
  },
  {
   "cell_type": "code",
   "execution_count": 5,
   "metadata": {},
   "outputs": [
    {
     "name": "stdout",
     "output_type": "stream",
     "text": [
      "[[ 0.          0.        ]\n",
      " [ 0.26221638  0.04884685]\n",
      " [ 0.08968821 -0.02690637]\n",
      " [ 0.10496067 -0.0314881 ]]\n"
     ]
    }
   ],
   "source": [
    "print(logits.value)"
   ]
  },
  {
   "cell_type": "code",
   "execution_count": 6,
   "metadata": {},
   "outputs": [
    {
     "data": {
      "text/plain": [
       "np.float64(0.7197625637831777)"
      ]
     },
     "execution_count": 6,
     "metadata": {},
     "output_type": "execute_result"
    }
   ],
   "source": [
    "loss.value"
   ]
  },
  {
   "cell_type": "code",
   "execution_count": 4,
   "metadata": {},
   "outputs": [],
   "source": [
    "loss.backward()"
   ]
  },
  {
   "cell_type": "code",
   "execution_count": 5,
   "metadata": {},
   "outputs": [
    {
     "data": {
      "text/plain": [
       "array([[ 0.        ,  0.        ],\n",
       "       [ 0.        ,  0.        ],\n",
       "       [ 0.16856773, -0.03099488],\n",
       "       [-0.01747358,  0.06906943]])"
      ]
     },
     "execution_count": 5,
     "metadata": {},
     "output_type": "execute_result"
    }
   ],
   "source": [
    "nn.get_params()[\"Linear0W\"].grad"
   ]
  },
  {
   "cell_type": "code",
   "execution_count": 6,
   "metadata": {},
   "outputs": [
    {
     "data": {
      "text/plain": [
       "array([[0.        , 0.        , 0.16856773, 0.06906943]])"
      ]
     },
     "execution_count": 6,
     "metadata": {},
     "output_type": "execute_result"
    }
   ],
   "source": [
    "nn.get_params()[\"Linear0b\"].grad"
   ]
  },
  {
   "cell_type": "code",
   "execution_count": 8,
   "metadata": {},
   "outputs": [
    {
     "name": "stdout",
     "output_type": "stream",
     "text": [
      "tensor([[ 0.0000,  0.0000],\n",
      "        [-2.2836, -0.1763],\n",
      "        [ 0.0658,  0.9228],\n",
      "        [-2.2178,  0.7465]], grad_fn=<AddBackward0>)\n"
     ]
    }
   ],
   "source": [
    "# check with torch\n",
    "Xt = torch.tensor([\n",
    "    [0, 0],\n",
    "    [0, 1],\n",
    "    [1, 0],\n",
    "    [1, 1]\n",
    "]).float()\n",
    "\n",
    "yt = torch.tensor([0, 1, 1, 0])\n",
    "\n",
    "p = nn.get_params()\n",
    "\n",
    "W1t = torch.tensor(p[\"Linear0W\"].value).float()\n",
    "W1t.requires_grad = True\n",
    "\n",
    "\n",
    "b1t = torch.tensor(p[\"Linear0W\"].b.value).float()\n",
    "b1t.requires_grad = True\n",
    "\n",
    "W2t = torch.tensor(p[\"Linear1W\"].W.value).float()\n",
    "W2t.requires_grad = True\n",
    "\n",
    "b2t = torch.tensor(p[\"Linear1b\"].b.value).float()\n",
    "b2t.requires_grad = True\n",
    "\n",
    "ht = torch.nn.functional.relu(Xt @ W1t.T + b1t)\n",
    "logits_t = ht @ W2t.T + b2t\n",
    "\n",
    "criterion_torch = torch.nn.CrossEntropyLoss()\n",
    "\n",
    "loss_t = criterion_torch(logits_t, yt)"
   ]
  },
  {
   "cell_type": "code",
   "execution_count": 9,
   "metadata": {},
   "outputs": [
    {
     "data": {
      "text/plain": [
       "tensor(1.0441, grad_fn=<NllLossBackward0>)"
      ]
     },
     "execution_count": 9,
     "metadata": {},
     "output_type": "execute_result"
    }
   ],
   "source": [
    "loss_t"
   ]
  },
  {
   "cell_type": "code",
   "execution_count": 12,
   "metadata": {},
   "outputs": [],
   "source": [
    "loss_t.backward()"
   ]
  },
  {
   "cell_type": "code",
   "execution_count": 13,
   "metadata": {},
   "outputs": [
    {
     "data": {
      "text/plain": [
       "tensor([[ 0.1160,  0.1497],\n",
       "        [ 0.1594,  0.2057],\n",
       "        [ 0.1093,  0.1410],\n",
       "        [-0.2404, -0.3102]])"
      ]
     },
     "execution_count": 13,
     "metadata": {},
     "output_type": "execute_result"
    }
   ],
   "source": [
    "W1t.grad.data"
   ]
  },
  {
   "cell_type": "code",
   "execution_count": 14,
   "metadata": {},
   "outputs": [],
   "source": [
    "def moin(*args):\n",
    "\n",
    "    for arg in args:\n",
    "        print(arg)"
   ]
  },
  {
   "cell_type": "code",
   "execution_count": 15,
   "metadata": {},
   "outputs": [
    {
     "name": "stdout",
     "output_type": "stream",
     "text": [
      "Hallo\n",
      "Wie \n",
      "Gehts\n",
      "Heute\n"
     ]
    }
   ],
   "source": [
    "moin(\"Hallo\", \"Wie \", \"Gehts\", \"Heute\")"
   ]
  },
  {
   "cell_type": "code",
   "execution_count": null,
   "metadata": {},
   "outputs": [],
   "source": []
  }
 ],
 "metadata": {
  "kernelspec": {
   "display_name": "venv",
   "language": "python",
   "name": "python3"
  },
  "language_info": {
   "codemirror_mode": {
    "name": "ipython",
    "version": 3
   },
   "file_extension": ".py",
   "mimetype": "text/x-python",
   "name": "python",
   "nbconvert_exporter": "python",
   "pygments_lexer": "ipython3",
   "version": "3.10.12"
  }
 },
 "nbformat": 4,
 "nbformat_minor": 2
}
